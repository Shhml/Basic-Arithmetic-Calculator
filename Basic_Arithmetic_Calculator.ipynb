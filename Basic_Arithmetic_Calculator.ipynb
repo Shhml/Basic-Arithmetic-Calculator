{
  "nbformat": 4,
  "nbformat_minor": 0,
  "metadata": {
    "colab": {
      "provenance": []
    },
    "kernelspec": {
      "name": "python3",
      "display_name": "Python 3"
    },
    "language_info": {
      "name": "python"
    }
  },
  "cells": [
    {
      "cell_type": "code",
      "execution_count": 1,
      "metadata": {
        "colab": {
          "base_uri": "https://localhost:8080/"
        },
        "id": "u0vBBUAb2mU7",
        "outputId": "098560f0-efb2-4ef5-9870-21191c2c09bd"
      },
      "outputs": [
        {
          "output_type": "stream",
          "name": "stdout",
          "text": [
            "Select operation:\n",
            "1. Add\n",
            "2. Subtract\n",
            "3. Multiply\n",
            "4. Divide\n",
            "Enter choice (1/2/3/4): 4\n",
            "Enter first number: 56\n",
            "Enter second number: 76\n",
            "56.0 / 76.0 = 0.7368421052631579\n"
          ]
        }
      ],
      "source": [
        "# Simple Calculator in Python\n",
        "\n",
        "def add(x, y):\n",
        "    return x + y\n",
        "\n",
        "def subtract(x, y):\n",
        "    return x - y\n",
        "\n",
        "def multiply(x, y):\n",
        "    return x * y\n",
        "\n",
        "def divide(x, y):\n",
        "    if y != 0:\n",
        "        return x / y\n",
        "    else:\n",
        "        return \"Error! Division by zero.\"\n",
        "\n",
        "# Main program\n",
        "print(\"Select operation:\")\n",
        "print(\"1. Add\")\n",
        "print(\"2. Subtract\")\n",
        "print(\"3. Multiply\")\n",
        "print(\"4. Divide\")\n",
        "\n",
        "choice = input(\"Enter choice (1/2/3/4): \")\n",
        "\n",
        "num1 = float(input(\"Enter first number: \"))\n",
        "num2 = float(input(\"Enter second number: \"))\n",
        "\n",
        "if choice == '1':\n",
        "    print(f\"{num1} + {num2} = {add(num1, num2)}\")\n",
        "elif choice == '2':\n",
        "    print(f\"{num1} - {num2} = {subtract(num1, num2)}\")\n",
        "elif choice == '3':\n",
        "    print(f\"{num1} * {num2} = {multiply(num1, num2)}\")\n",
        "elif choice == '4':\n",
        "    print(f\"{num1} / {num2} = {divide(num1, num2)}\")\n",
        "else:\n",
        "    print(\"Invalid input!\")"
      ]
    }
  ]
}